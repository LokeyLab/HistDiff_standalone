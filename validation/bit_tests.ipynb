{
 "cells": [
  {
   "cell_type": "code",
   "execution_count": 2,
   "metadata": {},
   "outputs": [],
   "source": [
    "import pandas as pd, numpy as np, sys, os"
   ]
  },
  {
   "cell_type": "code",
   "execution_count": 9,
   "metadata": {},
   "outputs": [
    {
     "data": {
      "text/html": [
       "<div>\n",
       "<style scoped>\n",
       "    .dataframe tbody tr th:only-of-type {\n",
       "        vertical-align: middle;\n",
       "    }\n",
       "\n",
       "    .dataframe tbody tr th {\n",
       "        vertical-align: top;\n",
       "    }\n",
       "\n",
       "    .dataframe thead th {\n",
       "        text-align: right;\n",
       "    }\n",
       "</style>\n",
       "<table border=\"1\" class=\"dataframe\">\n",
       "  <thead>\n",
       "    <tr style=\"text-align: right;\">\n",
       "      <th></th>\n",
       "      <th>384_Well</th>\n",
       "      <th>Source_Plate_Name</th>\n",
       "      <th>UCSC_CSC_plate_ID</th>\n",
       "      <th>Source_Well</th>\n",
       "      <th>Source_Concentration</th>\n",
       "      <th>Source_Concentration_Units</th>\n",
       "      <th>Destination_Plate_Name</th>\n",
       "      <th>Destination_Plate_Barcode</th>\n",
       "      <th>MoleculeID</th>\n",
       "      <th>Human_Readable_Name</th>\n",
       "      <th>Transfer_Volume_nL</th>\n",
       "      <th>Assay_Volume_ul</th>\n",
       "      <th>Concentration</th>\n",
       "      <th>Units</th>\n",
       "      <th>Well_X</th>\n",
       "      <th>Well_Y</th>\n",
       "      <th>sample_type</th>\n",
       "    </tr>\n",
       "  </thead>\n",
       "  <tbody>\n",
       "    <tr>\n",
       "      <th>3</th>\n",
       "      <td>A04</td>\n",
       "      <td>M92250</td>\n",
       "      <td>SP7238PMA</td>\n",
       "      <td>A04</td>\n",
       "      <td>2.5</td>\n",
       "      <td>mM</td>\n",
       "      <td>2023-11-07_384PhenoPlate</td>\n",
       "      <td>NaN</td>\n",
       "      <td>T5813</td>\n",
       "      <td>BYAKANGELICIN</td>\n",
       "      <td>100</td>\n",
       "      <td>25</td>\n",
       "      <td>10</td>\n",
       "      <td>uM</td>\n",
       "      <td>1</td>\n",
       "      <td>4</td>\n",
       "      <td>SAMPLE</td>\n",
       "    </tr>\n",
       "    <tr>\n",
       "      <th>13</th>\n",
       "      <td>A14</td>\n",
       "      <td>M92250</td>\n",
       "      <td>SP7238PMA</td>\n",
       "      <td>A02</td>\n",
       "      <td>2.5</td>\n",
       "      <td>mM</td>\n",
       "      <td>2023-11-07_384PhenoPlate</td>\n",
       "      <td>NaN</td>\n",
       "      <td>PMA_R</td>\n",
       "      <td>PMA</td>\n",
       "      <td>100</td>\n",
       "      <td>25</td>\n",
       "      <td>10</td>\n",
       "      <td>uM</td>\n",
       "      <td>1</td>\n",
       "      <td>14</td>\n",
       "      <td>REFERENCE</td>\n",
       "    </tr>\n",
       "    <tr>\n",
       "      <th>59</th>\n",
       "      <td>C12</td>\n",
       "      <td>M92250</td>\n",
       "      <td>SP7238PMA</td>\n",
       "      <td>C12</td>\n",
       "      <td>2.5</td>\n",
       "      <td>mM</td>\n",
       "      <td>2023-11-07_384PhenoPlate</td>\n",
       "      <td>NaN</td>\n",
       "      <td>T5649</td>\n",
       "      <td>4-Allylanisole</td>\n",
       "      <td>100</td>\n",
       "      <td>25</td>\n",
       "      <td>10</td>\n",
       "      <td>uM</td>\n",
       "      <td>3</td>\n",
       "      <td>12</td>\n",
       "      <td>SAMPLE</td>\n",
       "    </tr>\n",
       "  </tbody>\n",
       "</table>\n",
       "</div>"
      ],
      "text/plain": [
       "   384_Well Source_Plate_Name UCSC_CSC_plate_ID Source_Well  \\\n",
       "3       A04            M92250         SP7238PMA         A04   \n",
       "13      A14            M92250         SP7238PMA         A02   \n",
       "59      C12            M92250         SP7238PMA         C12   \n",
       "\n",
       "    Source_Concentration Source_Concentration_Units    Destination_Plate_Name  \\\n",
       "3                    2.5                         mM  2023-11-07_384PhenoPlate   \n",
       "13                   2.5                         mM  2023-11-07_384PhenoPlate   \n",
       "59                   2.5                         mM  2023-11-07_384PhenoPlate   \n",
       "\n",
       "    Destination_Plate_Barcode MoleculeID Human_Readable_Name  \\\n",
       "3                         NaN      T5813       BYAKANGELICIN   \n",
       "13                        NaN      PMA_R                 PMA   \n",
       "59                        NaN      T5649      4-Allylanisole   \n",
       "\n",
       "    Transfer_Volume_nL  Assay_Volume_ul  Concentration Units  Well_X  Well_Y  \\\n",
       "3                  100               25             10    uM       1       4   \n",
       "13                 100               25             10    uM       1      14   \n",
       "59                 100               25             10    uM       3      12   \n",
       "\n",
       "   sample_type  \n",
       "3       SAMPLE  \n",
       "13   REFERENCE  \n",
       "59      SAMPLE  "
      ]
     },
     "metadata": {},
     "output_type": "display_data"
    },
    {
     "data": {
      "text/plain": [
       "13    A14\n",
       "Name: 384_Well, dtype: object"
      ]
     },
     "metadata": {},
     "output_type": "display_data"
    }
   ],
   "source": [
    "pm = \"/home/derfelt/git_repos/HistDiff_standalone/temp_store/platemaps/SP7238PMA.csv\"\n",
    "pm = pd.read_csv(pm)\n",
    "pm = pm[pm['384_Well'].isin(['A04', 'C12', 'A14'])]\n",
    "\n",
    "display(pm, pm[pm['sample_type'] == 'REFERENCE']['384_Well'])\n",
    "pm.to_csv('/home/derfelt/git_repos/HistDiff_standalone/temp_store/platemaps/SP7238PMA_limited.csv')"
   ]
  },
  {
   "cell_type": "markdown",
   "metadata": {},
   "source": [
    "# HistSquareDiff"
   ]
  },
  {
   "cell_type": "code",
   "execution_count": 2,
   "metadata": {},
   "outputs": [],
   "source": [
    "def HistSquareDiff(exp, ctrl, factor=1):\n",
    "    \"\"\"The actual workhorse HistDiff scoring function\"\"\"\n",
    "\n",
    "    # we transpose twice to ensure the final result is a 1 x m feature score vector\n",
    "    ctrl_meanProxy = (np.arange(1, ctrl.shape[0] + 1) * ctrl.T).T.sum(axis=0)\n",
    "    exp_meanProxy = (np.arange(1, exp.shape[0] + 1) * exp.T).T.sum(axis=0)\n",
    "\n",
    "    # evaluate where and when to adjust the score to be negative\n",
    "    negScore = np.where(ctrl_meanProxy > exp_meanProxy, -1, 1)\n",
    "    diff = ctrl - (exp.T * factor)\n",
    "    diff **= 2\n",
    "\n",
    "    return diff.sum(axis=1) * negScore\n"
   ]
  },
  {
   "cell_type": "code",
   "execution_count": 3,
   "metadata": {},
   "outputs": [
    {
     "data": {
      "text/plain": [
       "array([-12.5 ,   7.25])"
      ]
     },
     "execution_count": 3,
     "metadata": {},
     "output_type": "execute_result"
    }
   ],
   "source": [
    "exp_mat = np.array([[1, 2],\n",
    "                    [2, 3],\n",
    "                    [3, 4]])\n",
    "crt_mat = np.array([2,3,4])\n",
    "\n",
    "HistSquareDiff(exp=exp_mat, ctrl=crt_mat, factor=0.5)"
   ]
  },
  {
   "cell_type": "markdown",
   "metadata": {},
   "source": [
    "# getMinMaxPlate"
   ]
  },
  {
   "cell_type": "code",
   "execution_count": 4,
   "metadata": {},
   "outputs": [],
   "source": [
    "def getMinMaxPlate(\n",
    "    chunks: pd.io.parsers.readers.TextFileReader , id_col: list[str] | str, verbose=True, probOut=None\n",
    ") -> tuple[pd.DataFrame, list[str], pd.DataFrame]:\n",
    "    \"\"\"Gets the min and max of the features and returns features that are useful\"\"\"\n",
    "    xlow = []\n",
    "    xHigh = []\n",
    "\n",
    "    feats: list[str] = []\n",
    "\n",
    "    for count, chunk in enumerate(chunks, start=1):\n",
    "        currDf = chunk\n",
    "        currDf.set_index(id_col, inplace=True)\n",
    "        currDf = currDf.replace(to_replace=-np.inf, value=np.nan)\n",
    "        currDf = currDf.replace(to_replace=np.inf, value=np.nan)\n",
    "\n",
    "        if count == 1:\n",
    "            feats = currDf.columns.to_list()\n",
    "\n",
    "        xlow.append(currDf.min(axis=0).to_list())\n",
    "        xHigh.append(currDf.max(axis=0).to_list())\n",
    "\n",
    "    xlow = pd.DataFrame(xlow).min(axis=0)\n",
    "    xhigh = pd.DataFrame(xHigh).max(axis=0)\n",
    "\n",
    "    # adjusting the high ranges\n",
    "    xhigh[xhigh == xlow] = xlow[xhigh == xlow] + xlow[xhigh == xlow] * 0.5\n",
    "    xhigh[xhigh == xlow] = xlow[xhigh == xlow] + 1\n",
    "\n",
    "    min_max = pd.DataFrame(\n",
    "        {\"xlow\": xlow.to_list(), \"xhigh\": xhigh.to_list()}, index=feats\n",
    "    )\n",
    "\n",
    "    bad_features = {\n",
    "        feature: \"noValues\"\n",
    "        for feature in min_max[\n",
    "            min_max.apply(lambda x: all(np.isnan(x)), axis=1)\n",
    "        ].index.values.tolist()\n",
    "    }\n",
    "    problematic_features_df = None\n",
    "    if bad_features and verbose:\n",
    "        print(\n",
    "            f\"MinMax: No values have been found in the following features: \"\n",
    "            f'{\" | \".join(bad_features.keys())}'\n",
    "            f'\\nlen: {len(bad_features)}',\n",
    "            file=sys.stderr,\n",
    "        )\n",
    "        problematic_features_df = pd.Series(bad_features, name=\"histdiff_issue\")\n",
    "        if probOut is not None:\n",
    "            problematic_features_df.to_csv(f\"{probOut}_problematicFeats.csv\")\n",
    "\n",
    "    # Get good features and min_max table\n",
    "    min_max = min_max[~min_max.apply(lambda x: all(np.isnan(x)), axis=1)]\n",
    "    good_features = min_max.index.values.tolist()\n",
    "    print(f\"length of good features is: {len(good_features)}\", file=sys.stderr)\n",
    "\n",
    "    return (min_max, good_features, problematic_features_df)\n"
   ]
  },
  {
   "cell_type": "code",
   "execution_count": 5,
   "metadata": {},
   "outputs": [],
   "source": [
    "# # file = \"/home/derfelt/LokeyLabFiles/TargetMol/GR_followup/dataset/cell_by_cell_data/024ebc52-9579-11ef-b032-02420a00010f_cellbycell_HD_input.tsv.gz\"\n",
    "# file = \"/home/derfelt/git_repos/HistDiff_standalone/temp_store/cellbycell/024ebc52-9579-11ef-b032-02420a00010f_cellbycell_HD_input.tsv\"\n",
    "\n",
    "# print(pd.read_table(file, nrows=1).shape[1])\n",
    "# file = pd.read_table(file, chunksize=10000)\n",
    "# id_col = 'id'\n",
    "\n",
    "# test_out, _, _ = getMinMaxPlate(chunks=file, id_col=id_col, verbose=True)\n",
    "\n",
    "# display(test_out)"
   ]
  },
  {
   "cell_type": "code",
   "execution_count": 6,
   "metadata": {},
   "outputs": [],
   "source": [
    "class Hist1D(object):\n",
    "    \"\"\"taken from https://stackoverflow.com/a/45092548\"\"\"\n",
    "\n",
    "    def __init__(self, nbins, xlow, xhigh):\n",
    "        self.nbins = nbins\n",
    "        self.xlow = xlow\n",
    "        self.xhigh = xhigh\n",
    "        self.hist, edges = np.histogram([], bins=nbins, range=(xlow, xhigh))\n",
    "        self.bins = (edges[:-1] + edges[1:]) / 2.0\n",
    "\n",
    "    def fill(self, arr):\n",
    "        hist, edges = np.histogram(arr, bins=self.nbins, range=(self.xlow, self.xhigh))\n",
    "        self.hist += hist\n",
    "\n",
    "    @property\n",
    "    def data(self):\n",
    "        return self.bins, self.hist"
   ]
  },
  {
   "cell_type": "code",
   "execution_count": null,
   "metadata": {},
   "outputs": [
    {
     "name": "stdout",
     "output_type": "stream",
     "text": [
      "[1 2 2 0 0]\n"
     ]
    }
   ],
   "source": [
    "hist = Hist1D(nbins=5, xlow=0, xhigh=1)\n",
    "\n",
    "data = np.array([.1,.2,.3,.4,.5])\n",
    "\n",
    "hist.fill(data)\n",
    "\n",
    "print(hist.hist)"
   ]
  },
  {
   "cell_type": "code",
   "execution_count": 13,
   "metadata": {},
   "outputs": [
    {
     "name": "stdout",
     "output_type": "stream",
     "text": [
      "[1 1 2 0 2]\n"
     ]
    }
   ],
   "source": [
    "hist = Hist1D(nbins=5, xlow=0, xhigh=1)\n",
    "\n",
    "data = np.array([0.0,0.2,0.4, 0.6,0.8,1,-0.1,1.1])\n",
    "\n",
    "hist.fill(data)\n",
    "\n",
    "print(hist.hist)"
   ]
  }
 ],
 "metadata": {
  "kernelspec": {
   "display_name": "HistDiff",
   "language": "python",
   "name": "python3"
  },
  "language_info": {
   "codemirror_mode": {
    "name": "ipython",
    "version": 3
   },
   "file_extension": ".py",
   "mimetype": "text/x-python",
   "name": "python",
   "nbconvert_exporter": "python",
   "pygments_lexer": "ipython3",
   "version": "3.13.0"
  }
 },
 "nbformat": 4,
 "nbformat_minor": 2
}
