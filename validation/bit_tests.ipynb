{
 "cells": [
  {
   "cell_type": "code",
   "execution_count": 1,
   "metadata": {},
   "outputs": [],
   "source": [
    "import pandas as pd, numpy as np"
   ]
  },
  {
   "cell_type": "code",
   "execution_count": 2,
   "metadata": {},
   "outputs": [],
   "source": [
    "def HistSquareDiff(exp, ctrl, factor=1):\n",
    "    \"\"\"The actual workhorse HistDiff scoring function\"\"\"\n",
    "\n",
    "    # we transpose twice to ensure the final result is a 1 x m feature score vector\n",
    "    ctrl_meanProxy = (np.arange(1, ctrl.shape[0] + 1) * ctrl.T).T.sum(axis=0)\n",
    "    exp_meanProxy = (np.arange(1, exp.shape[0] + 1) * exp.T).T.sum(axis=0)\n",
    "\n",
    "    # evaluate where and when to adjust the score to be negative\n",
    "    negScore = np.where(ctrl_meanProxy > exp_meanProxy, -1, 1)\n",
    "    diff = ctrl - (exp.T * factor)\n",
    "    diff **= 2\n",
    "\n",
    "    return diff.sum(axis=1) * negScore\n"
   ]
  },
  {
   "cell_type": "code",
   "execution_count": 4,
   "metadata": {},
   "outputs": [
    {
     "data": {
      "text/plain": [
       "array([-12.5 ,   7.25])"
      ]
     },
     "execution_count": 4,
     "metadata": {},
     "output_type": "execute_result"
    }
   ],
   "source": [
    "exp_mat = np.array([[1, 2],\n",
    "                    [2, 3],\n",
    "                    [3, 4]])\n",
    "crt_mat = np.array([2,3,4])\n",
    "\n",
    "HistSquareDiff(exp=exp_mat, ctrl=crt_mat, factor=0.5)"
   ]
  }
 ],
 "metadata": {
  "kernelspec": {
   "display_name": "HistDiff",
   "language": "python",
   "name": "python3"
  },
  "language_info": {
   "codemirror_mode": {
    "name": "ipython",
    "version": 3
   },
   "file_extension": ".py",
   "mimetype": "text/x-python",
   "name": "python",
   "nbconvert_exporter": "python",
   "pygments_lexer": "ipython3",
   "version": "3.13.0"
  }
 },
 "nbformat": 4,
 "nbformat_minor": 2
}
