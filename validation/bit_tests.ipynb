{
 "cells": [
  {
   "cell_type": "code",
   "execution_count": 13,
   "metadata": {},
   "outputs": [],
   "source": [
    "import pandas as pd, numpy as np, sys, os"
   ]
  },
  {
   "cell_type": "markdown",
   "metadata": {},
   "source": [
    "# HistSquareDiff"
   ]
  },
  {
   "cell_type": "code",
   "execution_count": 2,
   "metadata": {},
   "outputs": [],
   "source": [
    "def HistSquareDiff(exp, ctrl, factor=1):\n",
    "    \"\"\"The actual workhorse HistDiff scoring function\"\"\"\n",
    "\n",
    "    # we transpose twice to ensure the final result is a 1 x m feature score vector\n",
    "    ctrl_meanProxy = (np.arange(1, ctrl.shape[0] + 1) * ctrl.T).T.sum(axis=0)\n",
    "    exp_meanProxy = (np.arange(1, exp.shape[0] + 1) * exp.T).T.sum(axis=0)\n",
    "\n",
    "    # evaluate where and when to adjust the score to be negative\n",
    "    negScore = np.where(ctrl_meanProxy > exp_meanProxy, -1, 1)\n",
    "    diff = ctrl - (exp.T * factor)\n",
    "    diff **= 2\n",
    "\n",
    "    return diff.sum(axis=1) * negScore\n"
   ]
  },
  {
   "cell_type": "code",
   "execution_count": 3,
   "metadata": {},
   "outputs": [
    {
     "data": {
      "text/plain": [
       "array([-12.5 ,   7.25])"
      ]
     },
     "execution_count": 3,
     "metadata": {},
     "output_type": "execute_result"
    }
   ],
   "source": [
    "exp_mat = np.array([[1, 2],\n",
    "                    [2, 3],\n",
    "                    [3, 4]])\n",
    "crt_mat = np.array([2,3,4])\n",
    "\n",
    "HistSquareDiff(exp=exp_mat, ctrl=crt_mat, factor=0.5)"
   ]
  },
  {
   "cell_type": "markdown",
   "metadata": {},
   "source": [
    "# getMinMaxPlate"
   ]
  },
  {
   "cell_type": "code",
   "execution_count": 10,
   "metadata": {},
   "outputs": [],
   "source": [
    "def getMinMaxPlate(\n",
    "    chunks: pd.io.parsers.readers.TextFileReader , id_col: list[str] | str, verbose=True, probOut=None\n",
    ") -> tuple[pd.DataFrame, list[str], pd.DataFrame]:\n",
    "    \"\"\"Gets the min and max of the features and returns features that are useful\"\"\"\n",
    "    xlow = []\n",
    "    xHigh = []\n",
    "\n",
    "    feats: list[str] = []\n",
    "\n",
    "    for count, chunk in enumerate(chunks, start=1):\n",
    "        currDf = chunk\n",
    "        currDf.set_index(id_col, inplace=True)\n",
    "        currDf = currDf.replace(to_replace=-np.inf, value=np.nan)\n",
    "        currDf = currDf.replace(to_replace=np.inf, value=np.nan)\n",
    "\n",
    "        if count == 1:\n",
    "            feats = currDf.columns.to_list()\n",
    "\n",
    "        xlow.append(currDf.min(axis=0).to_list())\n",
    "        xHigh.append(currDf.max(axis=0).to_list())\n",
    "\n",
    "    xlow = pd.DataFrame(xlow).min(axis=0)\n",
    "    xhigh = pd.DataFrame(xHigh).max(axis=0)\n",
    "\n",
    "    # adjusting the high ranges\n",
    "    xhigh[xhigh == xlow] = xlow[xhigh == xlow] + xlow[xhigh == xlow] * 0.5\n",
    "    xhigh[xhigh == xlow] = xlow[xhigh == xlow] + 1\n",
    "\n",
    "    min_max = pd.DataFrame(\n",
    "        {\"xlow\": xlow.to_list(), \"xhigh\": xhigh.to_list()}, index=feats\n",
    "    )\n",
    "\n",
    "    bad_features = {\n",
    "        feature: \"noValues\"\n",
    "        for feature in min_max[\n",
    "            min_max.apply(lambda x: all(np.isnan(x)), axis=1)\n",
    "        ].index.values.tolist()\n",
    "    }\n",
    "    problematic_features_df = None\n",
    "    if bad_features and verbose:\n",
    "        print(\n",
    "            f\"MinMax: No values have been found in the following features: \"\n",
    "            f'{\" | \".join(bad_features.keys())}',\n",
    "            file=sys.stderr,\n",
    "        )\n",
    "        problematic_features_df = pd.Series(bad_features, name=\"histdiff_issue\")\n",
    "        if probOut is not None:\n",
    "            problematic_features_df.to_csv(f\"{probOut}_problematicFeats.csv\")\n",
    "\n",
    "    # Get good features and min_max table\n",
    "    min_max = min_max[~min_max.apply(lambda x: all(np.isnan(x)), axis=1)]\n",
    "    good_features = min_max.index.values.tolist()\n",
    "    print(f\"length of good features is: {len(good_features)}\", file=sys.stderr)\n",
    "\n",
    "    return (min_max, good_features, problematic_features_df)\n"
   ]
  },
  {
   "cell_type": "code",
   "execution_count": 14,
   "metadata": {},
   "outputs": [
    {
     "name": "stderr",
     "output_type": "stream",
     "text": [
      "MinMax: No values have been found in the following features: Nuclei-Membrane_Region_HOECHST_33342_(global)_Profile_3/5 | Nuclei-Membrane_Region_HOECHST_33342_(global)_Profile_3/5_SP-Filter | Nuclei-Membrane_Region_HOECHST_33342_(global)_Profile_3/5_SER-Bright | Nuclei-Membrane_Region_HOECHST_33342_(global)_Profile_3/5_SER-Dark | Nuclei-Membrane_Region_HOECHST_33342_(global)_Profile_3/5_SER-Ridge | Nuclei-Membrane_Region_HOECHST_33342_(global)_Profile_3/5_SER-Valley | Nuclei-Membrane_Region_HOECHST_33342_(global)_Profile_3/5_SER-Spot | Nuclei-Membrane_Region_HOECHST_33342_(global)_Profile_3/5_SER-Hole | Nuclei-Membrane_Region_HOECHST_33342_(global)_Profile_3/5_SER-Saddle | Nuclei-Membrane_Region_HOECHST_33342_(global)_Profile_3/5_SER-Edge | Nuclei-Membrane_Region_TRITC_(global)_Profile_3/5 | Nuclei-Membrane_Region_TRITC_(global)_Profile_3/5_SP-Filter | Nuclei-Membrane_Region_TRITC_(global)_Profile_3/5_SER-Bright | Nuclei-Membrane_Region_TRITC_(global)_Profile_3/5_SER-Dark | Nuclei-Membrane_Region_TRITC_(global)_Profile_3/5_SER-Ridge | Nuclei-Membrane_Region_TRITC_(global)_Profile_3/5_SER-Valley | Nuclei-Membrane_Region_TRITC_(global)_Profile_3/5_SER-Spot | Nuclei-Membrane_Region_TRITC_(global)_Profile_3/5_SER-Hole | Nuclei-Membrane_Region_TRITC_(global)_Profile_3/5_SER-Saddle | Nuclei-Membrane_Region_TRITC_(global)_Profile_3/5_SER-Edge | Nuclei-Membrane_Region_Alexa_488_(global)_Profile_3/5 | Nuclei-Membrane_Region_Alexa_488_(global)_Profile_3/5_SP-Filter | Nuclei-Membrane_Region_Alexa_488_(global)_Profile_3/5_SER-Bright | Nuclei-Membrane_Region_Alexa_488_(global)_Profile_3/5_SER-Dark | Nuclei-Membrane_Region_Alexa_488_(global)_Profile_3/5_SER-Ridge | Nuclei-Membrane_Region_Alexa_488_(global)_Profile_3/5_SER-Valley | Nuclei-Membrane_Region_Alexa_488_(global)_Profile_3/5_SER-Spot | Nuclei-Membrane_Region_Alexa_488_(global)_Profile_3/5_SER-Hole | Nuclei-Membrane_Region_Alexa_488_(global)_Profile_3/5_SER-Saddle | Nuclei-Membrane_Region_Alexa_488_(global)_Profile_3/5_SER-Edge | Nuclei-Membrane_Region_Alexa_647_(global)_Profile_3/5 | Nuclei-Membrane_Region_Alexa_647_(global)_Profile_3/5_SP-Filter | Nuclei-Membrane_Region_Alexa_647_(global)_Profile_3/5_SER-Bright | Nuclei-Membrane_Region_Alexa_647_(global)_Profile_3/5_SER-Dark | Nuclei-Membrane_Region_Alexa_647_(global)_Profile_3/5_SER-Ridge | Nuclei-Membrane_Region_Alexa_647_(global)_Profile_3/5_SER-Valley | Nuclei-Membrane_Region_Alexa_647_(global)_Profile_3/5_SER-Spot | Nuclei-Membrane_Region_Alexa_647_(global)_Profile_3/5_SER-Hole | Nuclei-Membrane_Region_Alexa_647_(global)_Profile_3/5_SER-Saddle | Nuclei-Membrane_Region_Alexa_647_(global)_Profile_3/5_SER-Edge\n",
      "length of good features is: 4710\n"
     ]
    },
    {
     "data": {
      "text/html": [
       "<div>\n",
       "<style scoped>\n",
       "    .dataframe tbody tr th:only-of-type {\n",
       "        vertical-align: middle;\n",
       "    }\n",
       "\n",
       "    .dataframe tbody tr th {\n",
       "        vertical-align: top;\n",
       "    }\n",
       "\n",
       "    .dataframe thead th {\n",
       "        text-align: right;\n",
       "    }\n",
       "</style>\n",
       "<table border=\"1\" class=\"dataframe\">\n",
       "  <thead>\n",
       "    <tr style=\"text-align: right;\">\n",
       "      <th></th>\n",
       "      <th>xlow</th>\n",
       "      <th>xhigh</th>\n",
       "    </tr>\n",
       "  </thead>\n",
       "  <tbody>\n",
       "    <tr>\n",
       "      <th>Nuclei-Intensity_Nucleus_Region_HOECHST_33342_(global)_Mean</th>\n",
       "      <td>1318.740000</td>\n",
       "      <td>53703.800000</td>\n",
       "    </tr>\n",
       "    <tr>\n",
       "      <th>Nuclei-Intensity_Nucleus_Region_HOECHST_33342_(global)_StdDev</th>\n",
       "      <td>119.789000</td>\n",
       "      <td>14356.600000</td>\n",
       "    </tr>\n",
       "    <tr>\n",
       "      <th>Nuclei-Intensity_Nucleus_Region_HOECHST_33342_(global)_Median</th>\n",
       "      <td>1201.000000</td>\n",
       "      <td>56188.000000</td>\n",
       "    </tr>\n",
       "    <tr>\n",
       "      <th>Nuclei-Intensity_Nucleus_Region_HOECHST_33342_(global)_Maximum</th>\n",
       "      <td>1784.000000</td>\n",
       "      <td>65535.000000</td>\n",
       "    </tr>\n",
       "    <tr>\n",
       "      <th>Nuclei-Intensity_Nucleus_Region_HOECHST_33342_(global)_Minimum</th>\n",
       "      <td>231.000000</td>\n",
       "      <td>25728.000000</td>\n",
       "    </tr>\n",
       "    <tr>\n",
       "      <th>...</th>\n",
       "      <td>...</td>\n",
       "      <td>...</td>\n",
       "    </tr>\n",
       "    <tr>\n",
       "      <th>Nuclei-Membrane_Region_Alexa_647_(global)_Haralick_Contrast_2_px</th>\n",
       "      <td>0.000000</td>\n",
       "      <td>37.722600</td>\n",
       "    </tr>\n",
       "    <tr>\n",
       "      <th>Nuclei-Membrane_Region_Alexa_647_(global)_Haralick_Sum_Variance_2_px</th>\n",
       "      <td>0.000000</td>\n",
       "      <td>52.632100</td>\n",
       "    </tr>\n",
       "    <tr>\n",
       "      <th>Nuclei-Membrane_Region_Alexa_647_(global)_Haralick_Homogeneity_2_px</th>\n",
       "      <td>0.018185</td>\n",
       "      <td>1.000000</td>\n",
       "    </tr>\n",
       "    <tr>\n",
       "      <th>Nuclei-Membrane_Region_Alexa_647_(global)_Gabor_Min_2_px_w2</th>\n",
       "      <td>0.000027</td>\n",
       "      <td>0.005261</td>\n",
       "    </tr>\n",
       "    <tr>\n",
       "      <th>Nuclei-Membrane_Region_Alexa_647_(global)_Gabor_Max_2_px_w2</th>\n",
       "      <td>0.002153</td>\n",
       "      <td>0.182886</td>\n",
       "    </tr>\n",
       "  </tbody>\n",
       "</table>\n",
       "<p>4710 rows × 2 columns</p>\n",
       "</div>"
      ],
      "text/plain": [
       "                                                           xlow         xhigh\n",
       "Nuclei-Intensity_Nucleus_Region_HOECHST_33342_(...  1318.740000  53703.800000\n",
       "Nuclei-Intensity_Nucleus_Region_HOECHST_33342_(...   119.789000  14356.600000\n",
       "Nuclei-Intensity_Nucleus_Region_HOECHST_33342_(...  1201.000000  56188.000000\n",
       "Nuclei-Intensity_Nucleus_Region_HOECHST_33342_(...  1784.000000  65535.000000\n",
       "Nuclei-Intensity_Nucleus_Region_HOECHST_33342_(...   231.000000  25728.000000\n",
       "...                                                         ...           ...\n",
       "Nuclei-Membrane_Region_Alexa_647_(global)_Haral...     0.000000     37.722600\n",
       "Nuclei-Membrane_Region_Alexa_647_(global)_Haral...     0.000000     52.632100\n",
       "Nuclei-Membrane_Region_Alexa_647_(global)_Haral...     0.018185      1.000000\n",
       "Nuclei-Membrane_Region_Alexa_647_(global)_Gabor...     0.000027      0.005261\n",
       "Nuclei-Membrane_Region_Alexa_647_(global)_Gabor...     0.002153      0.182886\n",
       "\n",
       "[4710 rows x 2 columns]"
      ]
     },
     "metadata": {},
     "output_type": "display_data"
    }
   ],
   "source": [
    "file = \"/home/derfelt/LokeyLabFiles/TargetMol/GR_followup/dataset/cell_by_cell_data/024ebc52-9579-11ef-b032-02420a00010f_cellbycell_HD_input.tsv.gz\"\n",
    "file = pd.read_table(file, compression='infer', chunksize=10000)\n",
    "id_col = 'id'\n",
    "\n",
    "test_out, _, _ = getMinMaxPlate(chunks=file, id_col=id_col)\n",
    "\n",
    "display(test_out)"
   ]
  }
 ],
 "metadata": {
  "kernelspec": {
   "display_name": "HistDiff",
   "language": "python",
   "name": "python3"
  },
  "language_info": {
   "codemirror_mode": {
    "name": "ipython",
    "version": 3
   },
   "file_extension": ".py",
   "mimetype": "text/x-python",
   "name": "python",
   "nbconvert_exporter": "python",
   "pygments_lexer": "ipython3",
   "version": "3.13.0"
  }
 },
 "nbformat": 4,
 "nbformat_minor": 2
}
